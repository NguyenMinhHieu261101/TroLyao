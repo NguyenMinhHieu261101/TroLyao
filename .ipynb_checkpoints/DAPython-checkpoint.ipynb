{
 "cells": [
  {
   "cell_type": "code",
   "execution_count": 2,
   "id": "5d201162",
   "metadata": {},
   "outputs": [
    {
     "name": "stdout",
     "output_type": "stream",
     "text": [
      "Requirement already satisfied: SpeechRecognition in d:\\anaconda\\ancd\\lib\\site-packages (3.8.1)Note: you may need to restart the kernel to use updated packages.\n",
      "\n"
     ]
    }
   ],
   "source": [
    "pip install SpeechRecognition"
   ]
  },
  {
   "cell_type": "code",
   "execution_count": 3,
   "id": "b59af933",
   "metadata": {},
   "outputs": [
    {
     "name": "stdout",
     "output_type": "stream",
     "text": [
      "Requirement already satisfied: playsound in d:\\anaconda\\ancd\\lib\\site-packages (1.2.2)\n",
      "Note: you may need to restart the kernel to use updated packages.\n"
     ]
    }
   ],
   "source": [
    "pip install playsound"
   ]
  },
  {
   "cell_type": "code",
   "execution_count": 4,
   "id": "87d9b1ce",
   "metadata": {},
   "outputs": [
    {
     "name": "stdout",
     "output_type": "stream",
     "text": [
      "Requirement already satisfied: selenium in d:\\anaconda\\ancd\\lib\\site-packages (4.5.0)\n",
      "Requirement already satisfied: urllib3[socks]~=1.26 in d:\\anaconda\\ancd\\lib\\site-packages (from selenium) (1.26.9)\n",
      "Requirement already satisfied: trio-websocket~=0.9 in d:\\anaconda\\ancd\\lib\\site-packages (from selenium) (0.9.2)\n",
      "Requirement already satisfied: certifi>=2021.10.8 in d:\\anaconda\\ancd\\lib\\site-packages (from selenium) (2021.10.8)\n",
      "Requirement already satisfied: trio~=0.17 in d:\\anaconda\\ancd\\lib\\site-packages (from selenium) (0.21.0)\n",
      "Requirement already satisfied: sniffio in d:\\anaconda\\ancd\\lib\\site-packages (from trio~=0.17->selenium) (1.2.0)\n",
      "Requirement already satisfied: cffi>=1.14 in d:\\anaconda\\ancd\\lib\\site-packages (from trio~=0.17->selenium) (1.15.0)\n",
      "Requirement already satisfied: idna in d:\\anaconda\\ancd\\lib\\site-packages (from trio~=0.17->selenium) (3.3)\n",
      "Requirement already satisfied: sortedcontainers in d:\\anaconda\\ancd\\lib\\site-packages (from trio~=0.17->selenium) (2.4.0)\n",
      "Requirement already satisfied: async-generator>=1.9 in d:\\anaconda\\ancd\\lib\\site-packages (from trio~=0.17->selenium) (1.10)\n",
      "Requirement already satisfied: outcome in d:\\anaconda\\ancd\\lib\\site-packages (from trio~=0.17->selenium) (1.2.0)\n",
      "Requirement already satisfied: attrs>=19.2.0 in d:\\anaconda\\ancd\\lib\\site-packages (from trio~=0.17->selenium) (21.4.0)\n",
      "Requirement already satisfied: pycparser in d:\\anaconda\\ancd\\lib\\site-packages (from cffi>=1.14->trio~=0.17->selenium) (2.21)\n",
      "Requirement already satisfied: wsproto>=0.14 in d:\\anaconda\\ancd\\lib\\site-packages (from trio-websocket~=0.9->selenium) (1.2.0)\n",
      "Requirement already satisfied: PySocks!=1.5.7,<2.0,>=1.5.6 in d:\\anaconda\\ancd\\lib\\site-packages (from urllib3[socks]~=1.26->selenium) (1.7.1)\n",
      "Requirement already satisfied: h11<1,>=0.9.0 in d:\\anaconda\\ancd\\lib\\site-packages (from wsproto>=0.14->trio-websocket~=0.9->selenium) (0.14.0)\n",
      "Note: you may need to restart the kernel to use updated packages.\n"
     ]
    }
   ],
   "source": [
    "pip install selenium"
   ]
  },
  {
   "cell_type": "code",
   "execution_count": 5,
   "id": "afe3a16a",
   "metadata": {},
   "outputs": [
    {
     "name": "stdout",
     "output_type": "stream",
     "text": [
      "Requirement already satisfied: webdriver-manager in d:\\anaconda\\ancd\\lib\\site-packages (3.8.3)\n",
      "Requirement already satisfied: python-dotenv in d:\\anaconda\\ancd\\lib\\site-packages (from webdriver-manager) (0.21.0)\n",
      "Requirement already satisfied: tqdm in d:\\anaconda\\ancd\\lib\\site-packages (from webdriver-manager) (4.64.0)\n",
      "Requirement already satisfied: requests in d:\\anaconda\\ancd\\lib\\site-packages (from webdriver-manager) (2.27.1)\n",
      "Requirement already satisfied: idna<4,>=2.5 in d:\\anaconda\\ancd\\lib\\site-packages (from requests->webdriver-manager) (3.3)\n",
      "Requirement already satisfied: urllib3<1.27,>=1.21.1 in d:\\anaconda\\ancd\\lib\\site-packages (from requests->webdriver-manager) (1.26.9)\n",
      "Requirement already satisfied: certifi>=2017.4.17 in d:\\anaconda\\ancd\\lib\\site-packages (from requests->webdriver-manager) (2021.10.8)\n",
      "Requirement already satisfied: charset-normalizer~=2.0.0 in d:\\anaconda\\ancd\\lib\\site-packages (from requests->webdriver-manager) (2.0.4)\n",
      "Requirement already satisfied: colorama in d:\\anaconda\\ancd\\lib\\site-packages (from tqdm->webdriver-manager) (0.4.4)\n",
      "Note: you may need to restart the kernel to use updated packages.\n"
     ]
    }
   ],
   "source": [
    "pip install webdriver-manager"
   ]
  },
  {
   "cell_type": "code",
   "execution_count": 6,
   "id": "40e6ae9e",
   "metadata": {},
   "outputs": [
    {
     "name": "stdout",
     "output_type": "stream",
     "text": [
      "Requirement already satisfied: gTTS in d:\\anaconda\\ancd\\lib\\site-packages (2.2.4)\n",
      "Requirement already satisfied: requests in d:\\anaconda\\ancd\\lib\\site-packages (from gTTS) (2.27.1)\n",
      "Requirement already satisfied: six in d:\\anaconda\\ancd\\lib\\site-packages (from gTTS) (1.16.0)\n",
      "Requirement already satisfied: click in d:\\anaconda\\ancd\\lib\\site-packages (from gTTS) (8.0.4)\n",
      "Requirement already satisfied: colorama in d:\\anaconda\\ancd\\lib\\site-packages (from click->gTTS) (0.4.4)\n",
      "Requirement already satisfied: certifi>=2017.4.17 in d:\\anaconda\\ancd\\lib\\site-packages (from requests->gTTS) (2021.10.8)\n",
      "Requirement already satisfied: charset-normalizer~=2.0.0 in d:\\anaconda\\ancd\\lib\\site-packages (from requests->gTTS) (2.0.4)\n",
      "Requirement already satisfied: idna<4,>=2.5 in d:\\anaconda\\ancd\\lib\\site-packages (from requests->gTTS) (3.3)\n",
      "Requirement already satisfied: urllib3<1.27,>=1.21.1 in d:\\anaconda\\ancd\\lib\\site-packages (from requests->gTTS) (1.26.9)\n",
      "Note: you may need to restart the kernel to use updated packages.\n"
     ]
    }
   ],
   "source": [
    "pip install gTTS"
   ]
  },
  {
   "cell_type": "code",
   "execution_count": 7,
   "id": "1936fb3a",
   "metadata": {},
   "outputs": [
    {
     "name": "stdout",
     "output_type": "stream",
     "text": [
      "Requirement already satisfied: youtube-search in d:\\anaconda\\ancd\\lib\\site-packages (2.1.1)\n",
      "Requirement already satisfied: requests in d:\\anaconda\\ancd\\lib\\site-packages (from youtube-search) (2.27.1)\n",
      "Requirement already satisfied: certifi>=2017.4.17 in d:\\anaconda\\ancd\\lib\\site-packages (from requests->youtube-search) (2021.10.8)\n",
      "Requirement already satisfied: charset-normalizer~=2.0.0 in d:\\anaconda\\ancd\\lib\\site-packages (from requests->youtube-search) (2.0.4)\n",
      "Requirement already satisfied: urllib3<1.27,>=1.21.1 in d:\\anaconda\\ancd\\lib\\site-packages (from requests->youtube-search) (1.26.9)\n",
      "Requirement already satisfied: idna<4,>=2.5 in d:\\anaconda\\ancd\\lib\\site-packages (from requests->youtube-search) (3.3)\n",
      "Note: you may need to restart the kernel to use updated packages.\n"
     ]
    }
   ],
   "source": [
    "pip install youtube-search"
   ]
  },
  {
   "cell_type": "code",
   "execution_count": 8,
   "id": "902f31c8",
   "metadata": {},
   "outputs": [
    {
     "name": "stdout",
     "output_type": "stream",
     "text": [
      "Requirement already satisfied: pipwin in d:\\anaconda\\ancd\\lib\\site-packages (0.5.2)\n",
      "Requirement already satisfied: js2py in d:\\anaconda\\ancd\\lib\\site-packages (from pipwin) (0.71)\n",
      "Requirement already satisfied: pySmartDL>=1.3.1 in d:\\anaconda\\ancd\\lib\\site-packages (from pipwin) (1.3.4)\n",
      "Requirement already satisfied: pyprind in d:\\anaconda\\ancd\\lib\\site-packages (from pipwin) (2.11.3)\n",
      "Requirement already satisfied: six in d:\\anaconda\\ancd\\lib\\site-packages (from pipwin) (1.16.0)\n",
      "Requirement already satisfied: docopt in d:\\anaconda\\ancd\\lib\\site-packages (from pipwin) (0.6.2)\n",
      "Requirement already satisfied: requests in d:\\anaconda\\ancd\\lib\\site-packages (from pipwin) (2.27.1)\n",
      "Requirement already satisfied: packaging in d:\\anaconda\\ancd\\lib\\site-packages (from pipwin) (21.3)\n",
      "Requirement already satisfied: beautifulsoup4>=4.9.0 in d:\\anaconda\\ancd\\lib\\site-packages (from pipwin) (4.11.1)\n",
      "Requirement already satisfied: soupsieve>1.2 in d:\\anaconda\\ancd\\lib\\site-packages (from beautifulsoup4>=4.9.0->pipwin) (2.3.1)\n",
      "Requirement already satisfied: tzlocal>=1.2 in d:\\anaconda\\ancd\\lib\\site-packages (from js2py->pipwin) (4.2)\n",
      "Requirement already satisfied: pyjsparser>=2.5.1 in d:\\anaconda\\ancd\\lib\\site-packages (from js2py->pipwin) (2.7.1)\n",
      "Requirement already satisfied: pytz-deprecation-shim in d:\\anaconda\\ancd\\lib\\site-packages (from tzlocal>=1.2->js2py->pipwin) (0.1.0.post0)\n",
      "Requirement already satisfied: tzdata in d:\\anaconda\\ancd\\lib\\site-packages (from tzlocal>=1.2->js2py->pipwin) (2022.2)\n",
      "Requirement already satisfied: pyparsing!=3.0.5,>=2.0.2 in d:\\anaconda\\ancd\\lib\\site-packages (from packaging->pipwin) (3.0.4)\n",
      "Requirement already satisfied: charset-normalizer~=2.0.0 in d:\\anaconda\\ancd\\lib\\site-packages (from requests->pipwin) (2.0.4)\n",
      "Requirement already satisfied: idna<4,>=2.5 in d:\\anaconda\\ancd\\lib\\site-packages (from requests->pipwin) (3.3)\n",
      "Requirement already satisfied: urllib3<1.27,>=1.21.1 in d:\\anaconda\\ancd\\lib\\site-packages (from requests->pipwin) (1.26.9)\n",
      "Requirement already satisfied: certifi>=2017.4.17 in d:\\anaconda\\ancd\\lib\\site-packages (from requests->pipwin) (2021.10.8)\n",
      "Note: you may need to restart the kernel to use updated packages.\n"
     ]
    }
   ],
   "source": [
    "pip install pipwin"
   ]
  },
  {
   "cell_type": "code",
   "execution_count": 9,
   "id": "677a6136",
   "metadata": {},
   "outputs": [
    {
     "name": "stdout",
     "output_type": "stream",
     "text": [
      "Requirement already satisfied: playsound==1.2.2 in d:\\anaconda\\ancd\\lib\\site-packages (1.2.2)\n",
      "Note: you may need to restart the kernel to use updated packages.\n"
     ]
    }
   ],
   "source": [
    "pip install playsound==1.2.2"
   ]
  },
  {
   "cell_type": "code",
   "execution_count": 10,
   "id": "a49a354f",
   "metadata": {},
   "outputs": [
    {
     "name": "stdout",
     "output_type": "stream",
     "text": [
      "Requirement already satisfied: pyaudio in d:\\anaconda\\ancd\\lib\\site-packages (0.2.12)\n",
      "Note: you may need to restart the kernel to use updated packages.\n"
     ]
    }
   ],
   "source": [
    "pip install pyaudio"
   ]
  },
  {
   "cell_type": "code",
   "execution_count": 1,
   "id": "4ca8238e",
   "metadata": {},
   "outputs": [],
   "source": [
    "import os\n",
    "import playsound\n",
    "import speech_recognition as sr\n",
    "import time\n",
    "import sys\n",
    "import ctypes\n",
    "import datetime\n",
    "import json\n",
    "import re\n",
    "import webbrowser\n",
    "import smtplib\n",
    "import requests\n",
    "import pyaudio\n",
    "import urllib\n",
    "import urllib.request as urllib2\n",
    "from selenium import webdriver\n",
    "from selenium.webdriver.common.keys import Keys\n",
    "from webdriver_manager.chrome import ChromeDriverManager\n",
    "from time import strftime\n",
    "from gtts import gTTS\n",
    "from youtube_search import YoutubeSearch"
   ]
  },
  {
   "cell_type": "code",
   "execution_count": 2,
   "id": "0ad8852b",
   "metadata": {},
   "outputs": [],
   "source": [
    "language = 'vi'\n",
    "path = ChromeDriverManager().install()"
   ]
  },
  {
   "cell_type": "code",
   "execution_count": 3,
   "id": "f4353d95",
   "metadata": {},
   "outputs": [],
   "source": [
    "def speak(text):\n",
    "    print(\"Bot: {}\".format(text))\n",
    "    #truyen vao text de doc len\n",
    "    tts = gTTS(text=text, lang=language, slow = False)\n",
    "    tts.save(\"sound.mp3\")\n",
    "    playsound.playsound(\"sound.mp3\", False)\n",
    "    os.remove(\"sound.mp3\")"
   ]
  },
  {
   "cell_type": "code",
   "execution_count": 4,
   "id": "c0310219",
   "metadata": {},
   "outputs": [],
   "source": [
    "def get_voice():\n",
    "     r = sr.Recognizer()\n",
    "     with sr.Microphone() as source:\n",
    "        print(\"Me: \", end = '')\n",
    "        audio = r.listen(source, phrase_time_limit=5)\n",
    "        try:\n",
    "            text = r.recognize_google(audio, language=\"vi-VN\")\n",
    "            print(text)\n",
    "            return text\n",
    "        except:\n",
    "            print(\"...\")\n",
    "            return 0"
   ]
  },
  {
   "cell_type": "code",
   "execution_count": 5,
   "id": "b2cd22fe",
   "metadata": {},
   "outputs": [],
   "source": [
    "def stop():\n",
    "    speak(\"Hẹn gặp lại bạn nhé!\")"
   ]
  },
  {
   "cell_type": "code",
   "execution_count": 6,
   "id": "34561b93",
   "metadata": {},
   "outputs": [],
   "source": [
    "def get_text():\n",
    "    for i in range(9):\n",
    "        text = get_voice()\n",
    "        if text:\n",
    "            return text.lower()\n",
    "        elif i < 9:\n",
    "            speak(\"Bạn có thể nói lại không?\")\n",
    "            time.sleep(3)\n",
    "    time.sleep(18)\n",
    "    stop()\n",
    "    return 0"
   ]
  },
  {
   "cell_type": "code",
   "execution_count": 7,
   "id": "20b3d1f9",
   "metadata": {},
   "outputs": [],
   "source": [
    "def talk(name):\n",
    "    day_time = int(strftime('%H'))\n",
    "    if day_time < 12:\n",
    "        speak(\"Chào buổi sáng {}. Chúc bạn ngày mới tốt lành!\".format(name))\n",
    "    elif day_time < 18:\n",
    "        speak(\"Chào buổi chiều {}!\".format(name))\n",
    "    else:\n",
    "        speak(\"Chào buổi tối {}!\".format(name))\n",
    "    time.sleep(1)\n",
    "    speak(\"Bạn có khỏe không ?\")\n",
    "    time.sleep(1)\n",
    "    ans = get_voice()\n",
    "    if ans:\n",
    "        if \"có\" in ans:\n",
    "            speak(\"Tuyệt! Bạn cần giúp gì nữa không?\")\n",
    "            time.sleep(2)\n",
    "        else:\n",
    "            speak(\"Vậy à, bạn nên nghỉ ngơi đi!\")"
   ]
  },
  {
   "cell_type": "code",
   "execution_count": 8,
   "id": "9d5bfcef",
   "metadata": {},
   "outputs": [],
   "source": [
    "def open_website(text):\n",
    "    regex = re.search ('mở (.+)', text)\n",
    "    if regex:\n",
    "        domain = regex.group(1)\n",
    "        url = 'https://www.' + domain\n",
    "        webbrowser.open(url)\n",
    "        speak(\"Trang web của bạn đã được mở lên!\")\n",
    "        time.sleep(6)\n",
    "        speak(\"Bạn cần giúp gì nữa không\")\n",
    "        time.sleep(3)\n",
    "        return True\n",
    "    else:\n",
    "        return False"
   ]
  },
  {
   "cell_type": "code",
   "execution_count": 9,
   "id": "d1a42cc8",
   "metadata": {},
   "outputs": [],
   "source": [
    "def play_youtube():\n",
    "    speak(\"Bạn hãy nói chủ đề bạn muốn giải trí\")\n",
    "    time.sleep(4)\n",
    "    my_song = get_text()\n",
    "    while True:\n",
    "        result = YoutubeSearch(my_song, max_results = 10).to_dict()\n",
    "        if result:\n",
    "            break;\n",
    "    url = 'https://www.youtube.com' + result[0]['url_suffix']\n",
    "    webbrowser.open(url)\n",
    "    speak(\"Chủ đề của bạn đã được mở, hãy thưởng thức nó!\")\n",
    "    time.sleep(6)\n",
    "    speak(\"Bạn cần giúp gì nữa không\")\n",
    "    time.sleep(4)"
   ]
  },
  {
   "cell_type": "code",
   "execution_count": 10,
   "id": "b85b2d27",
   "metadata": {},
   "outputs": [],
   "source": [
    "def get_time(text):\n",
    "    now = datetime.datetime.now()\n",
    "    if \"giờ\" in text:\n",
    "        speak(\"Bây giờ là %d giờ %d phút\" % (now.hour, now.minute))\n",
    "        time.sleep(3)\n",
    "    elif \"ngày\" in text:\n",
    "        speak(\"Hôm nay là ngày %d tháng %d năm %d \" % (now.day, now.month, now.year))\n",
    "        time.sleep(3)\n",
    "    else:\n",
    "        speak(\"Bot không hiểu\")\n",
    "        time.sleep(3)"
   ]
  },
  {
   "cell_type": "code",
   "execution_count": 16,
   "id": "964c985c",
   "metadata": {},
   "outputs": [],
   "source": [
    "def weather():\n",
    "    speak(\"Bạn muốn xem thời tiết ở đâu!\")\n",
    "    time.sleep(3)\n",
    "    url = \"http://api.openweathermap.org/data/2.5/weather?\"\n",
    "    city = get_text()\n",
    "    if not city:\n",
    "        pass\n",
    "    api_key = \"fe8d8c65cf345889139d8e545f57819a\"\n",
    "    call_url = url + \"appid=\" + api_key + \"&q=\" + city + \"&units=metric\"\n",
    "    response = requests.get(call_url)\n",
    "    data = response.json()\n",
    "    if data[\"cod\"] != \"404\":\n",
    "        city_res = data[\"main\"]\n",
    "        current_temp = city_res[\"temp\"]\n",
    "        current_pressure = city_res[\"pressure\"]\n",
    "        current_humidity = city_res[\"humidity\"]\n",
    "        sun_time  = data[\"sys\"]\n",
    "        sun_rise = datetime.datetime.fromtimestamp(sun_time[\"sunrise\"])\n",
    "        sun_set = datetime.datetime.fromtimestamp(sun_time[\"sunset\"])\n",
    "        wther = data[\"weather\"]\n",
    "        weather_des = wther[0][\"description\"]\n",
    "        now = datetime.datetime.now()\n",
    "        content = \"\"\"\n",
    "        Hôm nay là ngày {day} tháng {month} năm {year}\n",
    "        Mặt trời mọc vào {hourrise} giờ {minrise} phút\n",
    "        Mặt trời lặn vào {hourset} giờ {minset} phút\n",
    "        Nhiệt độ trung bình là {temp} độ C\n",
    "        Áp suất không khí là {pressure} héc tơ Pascal\n",
    "        Độ ẩm là {humidity}%\"\"\".format(day = now.day, month = now.month, year= now.year, hourrise = sun_rise.hour, minrise = sun_rise.minute,\n",
    "                                                                           hourset = sun_set.hour, minset = sun_set.minute, \n",
    "                                                                           temp = current_temp, pressure = current_pressure, humidity = current_humidity)\n",
    "        speak(content)\n",
    "        time.sleep(24)\n",
    "        speak(\"Bạn cần giúp gì nữa không\")\n",
    "        time.sleep(4)\n",
    "    else:\n",
    "        speak(\"Không tìm thấy thành phố!\")"
   ]
  },
  {
   "cell_type": "code",
   "execution_count": 12,
   "id": "3a667c1d",
   "metadata": {},
   "outputs": [],
   "source": [
    "def open_application(text):\n",
    "    if \"google\" in text:\n",
    "        speak(\"Đang mở google chrome\")\n",
    "        os.startfile('C:\\Program Files\\Google\\Chrome\\Application\\chrome.exe')\n",
    "        time.sleep(6)\n",
    "        speak(\"Bạn cần giúp gì nữa không\")\n",
    "        time.sleep(3)\n",
    "    elif \"garena\" in text:\n",
    "        speak(\"Đang mở garena\")\n",
    "        os.startfile(\"D:\\Garena\\Garena-v2.0-VN.exe\")\n",
    "        time.sleep(6)\n",
    "        speak(\"Bạn cần giúp gì nữa không\")\n",
    "        time.sleep(3)\n",
    "    elif \"app đọc tài liệu\" in text:\n",
    "        speak(\"Đang mở Foxit Reader\")\n",
    "        os.startfile(\"D:\\Foxit\\Foxit Reader\\FoxitReader.exe\")\n",
    "        time.sleep(6)\n",
    "        speak(\"Bạn cần giúp gì nữa không\")\n",
    "        time.sleep(3)\n",
    "    elif \"photoshop\" in text:\n",
    "        speak(\"Đang mở photoshop\")\n",
    "        os.startfile(\"D:\\Pts\\PTS\\Adobe Photoshop CC 2019\\Photoshop.exe\")\n",
    "        time.sleep(6)\n",
    "        speak(\"Bạn cần giúp gì nữa không\")\n",
    "        time.sleep(3)\n",
    "    else:\n",
    "        speak(\"Phần mềm của bạn chưa được cài đặt!\")\n",
    "        time.sleep(6)\n",
    "        speak(\"Bạn cần giúp gì nữa không\")\n",
    "        time.sleep(3)"
   ]
  },
  {
   "cell_type": "code",
   "execution_count": 13,
   "id": "ab9e458a",
   "metadata": {},
   "outputs": [],
   "source": [
    "def change_wallpaper():\n",
    "    api_key = 'RF3LyUUIyogjCpQwlf-zjzCf1JdvRwb--SLV6iCzOxw'\n",
    "    url = 'https://api.unsplash.com/photos/random?client_id=' + api_key  # pic from unspalsh.com\n",
    "    f = urllib2.urlopen(url)\n",
    "    json_string = f.read()\n",
    "    f.close()\n",
    "    parsed_json = json.loads(json_string)\n",
    "    photo = parsed_json['urls']['full']\n",
    "    \n",
    "    urllib2.urlretrieve(photo, r\"C:\\Users\\nmh26\\OneDrive\\Pictures\\Wall\\image.png\")\n",
    "    image = os.path.join(r\"C:\\Users\\nmh26\\OneDrive\\Pictures\\Wall\\image.png\")\n",
    "    ctypes.windll.user32.SystemParametersInfoW(20,0,image,3)\n",
    "    speak(\"Hình nền máy tính vừa được thay đổi\")\n",
    "    time.sleep(4)\n",
    "    speak(\"Bạn cần giúp gì nữa không\")\n",
    "    time.sleep(3)"
   ]
  },
  {
   "cell_type": "code",
   "execution_count": 14,
   "id": "31150865",
   "metadata": {},
   "outputs": [],
   "source": [
    "def call_sen():\n",
    "    speak(\"Xin chào, bạn tên là gì nhỉ?\")\n",
    "    time.sleep(2)\n",
    "    name = get_text()\n",
    "    if name:\n",
    "        speak(\"Chào bạn {}\".format(name))\n",
    "        time.sleep(1)\n",
    "        speak(\"Bạn cần Sen giúp gì ạ!\")\n",
    "        time.sleep(3)\n",
    "        while True:\n",
    "            text = get_text()\n",
    "            if not text:\n",
    "                break\n",
    "            elif \"trò chuyện\" in text or \"nói chuyện\" in text:\n",
    "                talk(name)\n",
    "            elif \"tạm biệt\" in text or \"ok bye\" in text or \"thôi\" in text:\n",
    "                stop()\n",
    "                break\n",
    "            elif \"mở\" in text:\n",
    "                if \".\" in text:\n",
    "                    open_website(text)\n",
    "                else:\n",
    "                    open_application(text) \n",
    "            elif \"ngày\" in text  or \"giờ\" in text:\n",
    "                get_time(text)\n",
    "            elif \"giải trí\" in text:\n",
    "                play_youtube()\n",
    "            elif \"xem thời tiết\" in text:\n",
    "                weather()\n",
    "            elif \"hình nền\" in text:\n",
    "                change_wallpaper()"
   ]
  },
  {
   "cell_type": "code",
   "execution_count": 15,
   "id": "643aaef2",
   "metadata": {},
   "outputs": [
    {
     "name": "stdout",
     "output_type": "stream",
     "text": [
      "Bot: Xin chào, bạn tên là gì nhỉ?\n",
      "Me: ...\n",
      "Bot: Bạn có thể nói lại không?\n",
      "Me: Hiếu\n",
      "Bot: Chào bạn hiếu\n",
      "Bot: Bạn cần Sen giúp gì ạ!\n",
      "Me: nói chuyện\n",
      "Bot: Chào buổi tối hiếu!\n",
      "Bot: Bạn có khỏe không ?\n",
      "Me: có\n",
      "Bot: Tuyệt! Bạn cần giúp gì nữa không?\n",
      "Me: mở facebook.com\n",
      "Bot: Trang web của bạn đã được mở lên!\n",
      "Bot: Bạn cần giúp gì nữa không\n",
      "Me: Mở Garena\n",
      "Bot: Đang mở garena\n",
      "Bot: Bạn cần giúp gì nữa không\n",
      "Me: Bây giờ là mấy giờ\n",
      "Bot: Bây giờ là 22 giờ 36 phút\n",
      "Me: Hôm nay là ngày mấy\n",
      "Bot: Hôm nay là ngày 1 tháng 11 năm 2022 \n",
      "Me: giải trí\n",
      "Bot: Bạn hãy nói chủ đề bạn muốn giải trí\n",
      "Me: phim hành động\n",
      "Bot: Chủ đề của bạn đã được mở, hãy thưởng thức nó!\n",
      "Bot: Bạn cần giúp gì nữa không\n",
      "Me: ...\n",
      "Bot: Bạn có thể nói lại không?\n",
      "Me: Xem thời tiết\n",
      "Bot: Bạn muốn xem thời tiết ở đâu!\n",
      "Me: Đà Lạt\n",
      "Bot: \n",
      "        Hôm nay là ngày 1 tháng 11 năm 2022\n",
      "        Mặt trời mọc vào 5 giờ 38 phút\n",
      "        Mặt trời lặn vào 17 giờ 20 phút\n",
      "        Nhiệt độ trung bình là 15.69 độ C\n",
      "        Áp suất không khí là 1013 héc tơ Pascal\n",
      "        Độ ẩm là 98%\n",
      "Bot: Bạn cần giúp gì nữa không\n",
      "Me: đổi hình nền máy tính\n",
      "Bot: Hình nền máy tính vừa được thay đổi\n",
      "Bot: Bạn cần giúp gì nữa không\n",
      "Me: Ok Cảm ơn máy bay\n",
      "Me: Ok bye\n",
      "Bot: Hẹn gặp lại bạn nhé!\n"
     ]
    }
   ],
   "source": [
    "call_sen()"
   ]
  },
  {
   "cell_type": "code",
   "execution_count": null,
   "id": "bb868b26",
   "metadata": {},
   "outputs": [],
   "source": []
  }
 ],
 "metadata": {
  "kernelspec": {
   "display_name": "Python 3 (ipykernel)",
   "language": "python",
   "name": "python3"
  },
  "language_info": {
   "codemirror_mode": {
    "name": "ipython",
    "version": 3
   },
   "file_extension": ".py",
   "mimetype": "text/x-python",
   "name": "python",
   "nbconvert_exporter": "python",
   "pygments_lexer": "ipython3",
   "version": "3.9.12"
  },
  "vscode": {
   "interpreter": {
    "hash": "3ba4c09ee75b9feb9e280bdbfcba419d3fcd453f9585af155ef097b490c323ff"
   }
  }
 },
 "nbformat": 4,
 "nbformat_minor": 5
}
